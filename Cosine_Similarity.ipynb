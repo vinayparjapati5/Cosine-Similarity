{
  "nbformat": 4,
  "nbformat_minor": 0,
  "metadata": {
    "colab": {
      "provenance": [],
      "authorship_tag": "ABX9TyP8zeg1OQSG19xJi28bjL4V",
      "include_colab_link": true
    },
    "kernelspec": {
      "name": "python3",
      "display_name": "Python 3"
    },
    "language_info": {
      "name": "python"
    }
  },
  "cells": [
    {
      "cell_type": "markdown",
      "metadata": {
        "id": "view-in-github",
        "colab_type": "text"
      },
      "source": [
        "<a href=\"https://colab.research.google.com/github/vinayparjapati5/Cosine-Similarity/blob/main/Cosine_Similarity.ipynb\" target=\"_parent\"><img src=\"https://colab.research.google.com/assets/colab-badge.svg\" alt=\"Open In Colab\"/></a>"
      ]
    },
    {
      "cell_type": "markdown",
      "source": [
        "---\n",
        "## **Mini Project : Cosine Similarity**\n",
        "---\n"
      ],
      "metadata": {
        "id": "8HUuomjkJQYQ"
      }
    },
    {
      "cell_type": "markdown",
      "source": [
        "\n",
        "### Cosine similarity is a metric used to measure the similarity between two vectors. In the context of text analysis, it is often used to compare the similarity between documents based on their content. The cosine similarity score ranges between 0 and 1, where 0 indicates no similarity and 1 indicates identical similarity.\n"
      ],
      "metadata": {
        "id": "Nc-hMHKSJZyR"
      }
    },
    {
      "cell_type": "code",
      "execution_count": 2,
      "metadata": {
        "colab": {
          "base_uri": "https://localhost:8080/"
        },
        "id": "rB6oB-5eI_Ls",
        "outputId": "8517a6ef-275a-45b4-acc1-275c20898146"
      },
      "outputs": [
        {
          "output_type": "stream",
          "name": "stdout",
          "text": [
            "Similarity data:\n",
            " ('File1.txt', 'File2.txt', 0.1909077417163092)\n",
            "Similarity data:\n",
            " ('File1.txt', 'File3.txt', 0.8465773472126983)\n",
            "Similarity data:\n",
            " ('File2.txt', 'File3.txt', 0.42585024005265176)\n"
          ]
        }
      ],
      "source": [
        "import os\n",
        "from sklearn.feature_extraction.text import TfidfVectorizer\n",
        "from sklearn.metrics.pairwise import cosine_similarity\n",
        "\n",
        "# Get the list of text files in the current directory\n",
        "files = [doc for doc in os.listdir() if doc.endswith('.txt')]\n",
        "\n",
        "# Read the content of each text file\n",
        "notes = []\n",
        "for file in files:\n",
        "    with open(file, 'r', encoding='utf-8') as f:\n",
        "        notes.append(f.read())\n",
        "\n",
        "# Vectorize the notes using TF-IDF\n",
        "vectorizer = TfidfVectorizer()\n",
        "vectors = vectorizer.fit_transform(notes).toarray()\n",
        "\n",
        "# Pair each file with its corresponding vector\n",
        "file_vectors = list(zip(files, vectors))\n",
        "\n",
        "# Set to store plagiarism results\n",
        "result = set()\n",
        "\n",
        "# Function to calculate similarity using cosine similarity\n",
        "def similarity(doc1, doc2):\n",
        "    return cosine_similarity([doc1, doc2])[0][1]\n",
        "\n",
        "# Check plagiarism among the notes\n",
        "def check_plagiarism():\n",
        "    global file_vectors\n",
        "    for file_a, vector_a in file_vectors:\n",
        "        new_vectors = file_vectors.copy()\n",
        "        current_index = new_vectors.index((file_a, vector_a))\n",
        "        del new_vectors[current_index]\n",
        "        for file_b, vector_b in new_vectors:\n",
        "            sim_score = similarity(vector_a, vector_b)\n",
        "            file_pair = sorted((file_a, file_b))\n",
        "            score = (file_pair[0], file_pair[1], sim_score)\n",
        "            result.add(score)\n",
        "    return result\n",
        "\n",
        "# Print the plagiarism results\n",
        "for data in check_plagiarism():\n",
        "    print(\"Similarity data:\\n\", data)\n"
      ]
    }
  ]
}